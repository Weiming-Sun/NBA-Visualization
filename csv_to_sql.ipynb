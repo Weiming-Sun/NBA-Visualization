{
 "cells": [
  {
   "cell_type": "code",
   "execution_count": 1,
   "metadata": {
    "collapsed": true
   },
   "outputs": [],
   "source": [
    "import pandas as pd"
   ]
  },
  {
   "cell_type": "code",
   "execution_count": 2,
   "metadata": {},
   "outputs": [
    {
     "name": "stdout",
     "output_type": "stream",
     "text": [
      " Volume in drive C is Windows\n",
      " Volume Serial Number is 22BD-1335\n",
      "\n",
      " Directory of C:\\Users\\Aleja\\Desktop\\learnPython\\NBA-Visualization\n",
      "\n",
      "03/26/2018  07:35 PM    <DIR>          .\n",
      "03/26/2018  07:35 PM    <DIR>          ..\n",
      "03/26/2018  07:35 PM    <DIR>          .ipynb_checkpoints\n",
      "03/26/2018  06:11 PM             1,326 app.py\n",
      "03/26/2018  07:35 PM                72 csv_to_sql.ipynb\n",
      "03/26/2018  06:16 PM           412,777 NBA.csv\n",
      "03/26/2018  07:00 PM             8,192 NBA.db\n",
      "03/26/2018  07:19 PM             8,720 NBA.db-journal\n",
      "03/26/2018  06:11 PM               800 README.md\n",
      "03/26/2018  06:32 PM            33,808 result.csv\n",
      "03/26/2018  06:11 PM    <DIR>          templates\n",
      "               7 File(s)        465,695 bytes\n",
      "               4 Dir(s)  175,329,902,592 bytes free\n"
     ]
    }
   ],
   "source": [
    "ls"
   ]
  },
  {
   "cell_type": "code",
   "execution_count": 3,
   "metadata": {
    "collapsed": true
   },
   "outputs": [],
   "source": [
    "nba = pd.read_csv('NBA.csv')"
   ]
  },
  {
   "cell_type": "code",
   "execution_count": 4,
   "metadata": {},
   "outputs": [
    {
     "data": {
      "text/html": [
       "<div>\n",
       "<style>\n",
       "    .dataframe thead tr:only-child th {\n",
       "        text-align: right;\n",
       "    }\n",
       "\n",
       "    .dataframe thead th {\n",
       "        text-align: left;\n",
       "    }\n",
       "\n",
       "    .dataframe tbody tr th {\n",
       "        vertical-align: top;\n",
       "    }\n",
       "</style>\n",
       "<table border=\"1\" class=\"dataframe\">\n",
       "  <thead>\n",
       "    <tr style=\"text-align: right;\">\n",
       "      <th></th>\n",
       "      <th>Season</th>\n",
       "      <th>Type</th>\n",
       "      <th>PLAYER</th>\n",
       "      <th>SAL</th>\n",
       "      <th>TEAM</th>\n",
       "      <th>AGE</th>\n",
       "      <th>GP</th>\n",
       "      <th>W</th>\n",
       "      <th>L</th>\n",
       "      <th>MIN</th>\n",
       "      <th>...</th>\n",
       "      <th>REB</th>\n",
       "      <th>AST</th>\n",
       "      <th>TOV</th>\n",
       "      <th>STL</th>\n",
       "      <th>BLK</th>\n",
       "      <th>PF</th>\n",
       "      <th>FP</th>\n",
       "      <th>DD2</th>\n",
       "      <th>TD3</th>\n",
       "      <th>+/-</th>\n",
       "    </tr>\n",
       "  </thead>\n",
       "  <tbody>\n",
       "    <tr>\n",
       "      <th>0</th>\n",
       "      <td>2017</td>\n",
       "      <td>Regular</td>\n",
       "      <td>AJ Hammons</td>\n",
       "      <td>650000</td>\n",
       "      <td>DAL</td>\n",
       "      <td>24</td>\n",
       "      <td>22</td>\n",
       "      <td>4</td>\n",
       "      <td>18</td>\n",
       "      <td>163</td>\n",
       "      <td>...</td>\n",
       "      <td>36</td>\n",
       "      <td>4</td>\n",
       "      <td>10</td>\n",
       "      <td>1</td>\n",
       "      <td>13</td>\n",
       "      <td>21</td>\n",
       "      <td>129.2</td>\n",
       "      <td>0</td>\n",
       "      <td>0</td>\n",
       "      <td>-5</td>\n",
       "    </tr>\n",
       "    <tr>\n",
       "      <th>1</th>\n",
       "      <td>2017</td>\n",
       "      <td>Regular</td>\n",
       "      <td>Aaron Brooks</td>\n",
       "      <td>2700000</td>\n",
       "      <td>IND</td>\n",
       "      <td>32</td>\n",
       "      <td>65</td>\n",
       "      <td>36</td>\n",
       "      <td>29</td>\n",
       "      <td>894</td>\n",
       "      <td>...</td>\n",
       "      <td>69</td>\n",
       "      <td>125</td>\n",
       "      <td>66</td>\n",
       "      <td>25</td>\n",
       "      <td>9</td>\n",
       "      <td>93</td>\n",
       "      <td>628.3</td>\n",
       "      <td>0</td>\n",
       "      <td>0</td>\n",
       "      <td>-33</td>\n",
       "    </tr>\n",
       "    <tr>\n",
       "      <th>2</th>\n",
       "      <td>2017</td>\n",
       "      <td>Regular</td>\n",
       "      <td>Aaron Gordon</td>\n",
       "      <td>4351320</td>\n",
       "      <td>ORL</td>\n",
       "      <td>21</td>\n",
       "      <td>80</td>\n",
       "      <td>29</td>\n",
       "      <td>51</td>\n",
       "      <td>2298</td>\n",
       "      <td>...</td>\n",
       "      <td>405</td>\n",
       "      <td>150</td>\n",
       "      <td>89</td>\n",
       "      <td>65</td>\n",
       "      <td>40</td>\n",
       "      <td>172</td>\n",
       "      <td>1956.0</td>\n",
       "      <td>7</td>\n",
       "      <td>0</td>\n",
       "      <td>-162</td>\n",
       "    </tr>\n",
       "    <tr>\n",
       "      <th>3</th>\n",
       "      <td>2017</td>\n",
       "      <td>Regular</td>\n",
       "      <td>Adreian Payne</td>\n",
       "      <td>2022240</td>\n",
       "      <td>MIN</td>\n",
       "      <td>26</td>\n",
       "      <td>18</td>\n",
       "      <td>5</td>\n",
       "      <td>13</td>\n",
       "      <td>135</td>\n",
       "      <td>...</td>\n",
       "      <td>33</td>\n",
       "      <td>7</td>\n",
       "      <td>8</td>\n",
       "      <td>8</td>\n",
       "      <td>7</td>\n",
       "      <td>32</td>\n",
       "      <td>150.1</td>\n",
       "      <td>0</td>\n",
       "      <td>0</td>\n",
       "      <td>10</td>\n",
       "    </tr>\n",
       "    <tr>\n",
       "      <th>4</th>\n",
       "      <td>2017</td>\n",
       "      <td>Regular</td>\n",
       "      <td>Al Horford</td>\n",
       "      <td>26540100</td>\n",
       "      <td>BOS</td>\n",
       "      <td>31</td>\n",
       "      <td>68</td>\n",
       "      <td>46</td>\n",
       "      <td>22</td>\n",
       "      <td>2193</td>\n",
       "      <td>...</td>\n",
       "      <td>465</td>\n",
       "      <td>337</td>\n",
       "      <td>115</td>\n",
       "      <td>52</td>\n",
       "      <td>86</td>\n",
       "      <td>138</td>\n",
       "      <td>2314.5</td>\n",
       "      <td>8</td>\n",
       "      <td>0</td>\n",
       "      <td>215</td>\n",
       "    </tr>\n",
       "  </tbody>\n",
       "</table>\n",
       "<p>5 rows × 32 columns</p>\n",
       "</div>"
      ],
      "text/plain": [
       "   Season     Type         PLAYER       SAL TEAM  AGE  GP   W   L   MIN ...   \\\n",
       "0    2017  Regular     AJ Hammons    650000  DAL   24  22   4  18   163 ...    \n",
       "1    2017  Regular   Aaron Brooks   2700000  IND   32  65  36  29   894 ...    \n",
       "2    2017  Regular   Aaron Gordon   4351320  ORL   21  80  29  51  2298 ...    \n",
       "3    2017  Regular  Adreian Payne   2022240  MIN   26  18   5  13   135 ...    \n",
       "4    2017  Regular     Al Horford  26540100  BOS   31  68  46  22  2193 ...    \n",
       "\n",
       "   REB  AST  TOV  STL  BLK   PF      FP  DD2  TD3  +/-  \n",
       "0   36    4   10    1   13   21   129.2    0    0   -5  \n",
       "1   69  125   66   25    9   93   628.3    0    0  -33  \n",
       "2  405  150   89   65   40  172  1956.0    7    0 -162  \n",
       "3   33    7    8    8    7   32   150.1    0    0   10  \n",
       "4  465  337  115   52   86  138  2314.5    8    0  215  \n",
       "\n",
       "[5 rows x 32 columns]"
      ]
     },
     "execution_count": 4,
     "metadata": {},
     "output_type": "execute_result"
    }
   ],
   "source": [
    "nba.head()"
   ]
  },
  {
   "cell_type": "code",
   "execution_count": 5,
   "metadata": {
    "collapsed": true
   },
   "outputs": [],
   "source": [
    "import sqlite3\n",
    "conn = sqlite3.connect('nba2.db')"
   ]
  },
  {
   "cell_type": "code",
   "execution_count": 6,
   "metadata": {
    "collapsed": true
   },
   "outputs": [],
   "source": [
    "nba.to_sql(\"nba\", conn, index=False)"
   ]
  },
  {
   "cell_type": "code",
   "execution_count": 7,
   "metadata": {},
   "outputs": [
    {
     "name": "stdout",
     "output_type": "stream",
     "text": [
      " Volume in drive C is Windows\n",
      " Volume Serial Number is 22BD-1335\n",
      "\n",
      " Directory of C:\\Users\\Aleja\\Desktop\\learnPython\\NBA-Visualization\n",
      "\n",
      "03/26/2018  07:38 PM    <DIR>          .\n",
      "03/26/2018  07:38 PM    <DIR>          ..\n",
      "03/26/2018  07:35 PM    <DIR>          .ipynb_checkpoints\n",
      "03/26/2018  06:11 PM             1,326 app.py\n",
      "03/26/2018  07:37 PM             8,478 csv_to_sql.ipynb\n",
      "03/26/2018  06:16 PM           412,777 NBA.csv\n",
      "03/26/2018  07:00 PM             8,192 NBA.db\n",
      "03/26/2018  07:19 PM             8,720 NBA.db-journal\n",
      "03/26/2018  07:38 PM           389,120 nba2.db\n",
      "03/26/2018  06:11 PM               800 README.md\n",
      "03/26/2018  06:32 PM            33,808 result.csv\n",
      "03/26/2018  06:11 PM    <DIR>          templates\n",
      "               8 File(s)        863,221 bytes\n",
      "               4 Dir(s)  175,328,788,480 bytes free\n"
     ]
    }
   ],
   "source": [
    "ls"
   ]
  },
  {
   "cell_type": "code",
   "execution_count": null,
   "metadata": {
    "collapsed": true
   },
   "outputs": [],
   "source": []
  }
 ],
 "metadata": {
  "kernelspec": {
   "display_name": "Python 3",
   "language": "python",
   "name": "python3"
  },
  "language_info": {
   "codemirror_mode": {
    "name": "ipython",
    "version": 3
   },
   "file_extension": ".py",
   "mimetype": "text/x-python",
   "name": "python",
   "nbconvert_exporter": "python",
   "pygments_lexer": "ipython3",
   "version": "3.6.2"
  }
 },
 "nbformat": 4,
 "nbformat_minor": 2
}
